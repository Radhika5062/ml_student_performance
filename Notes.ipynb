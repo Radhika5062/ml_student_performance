{
 "cells": [
  {
   "cell_type": "code",
   "execution_count": 1,
   "metadata": {},
   "outputs": [],
   "source": [
    "# Step 1: Create github repo\n",
    "# Step 2: Open the desired location in Vscode and create environment. \n",
    "# Step 3: Create a dummy README.md file.\n",
    "# Step 4: Sync the data from your local to github.\n",
    "# Step 5: Create git ignore file in Github.\n",
    "# Step 6: Pull the git ignore file from Github into local."
   ]
  },
  {
   "cell_type": "code",
   "execution_count": null,
   "metadata": {},
   "outputs": [],
   "source": [
    "# Step 7: Create the requirements.txt file. \n",
    "# Step 8: Create setup.py file. This file defines the meta data about the project. \n",
    "# Step 9: Create src folder.\n",
    "# Step 10: Create init file in src folder,\n",
    "# Step 11: Run pip install -r requirements.txt file in terminal. when you do this, then because of -e ., our setup file \n",
    "# will also run and then we should be able to see the eff-info folder being created as a part of this build."
   ]
  }
 ],
 "metadata": {
  "kernelspec": {
   "display_name": "Python 3",
   "language": "python",
   "name": "python3"
  },
  "language_info": {
   "codemirror_mode": {
    "name": "ipython",
    "version": 3
   },
   "file_extension": ".py",
   "mimetype": "text/x-python",
   "name": "python",
   "nbconvert_exporter": "python",
   "pygments_lexer": "ipython3",
   "version": "3.8.19"
  }
 },
 "nbformat": 4,
 "nbformat_minor": 2
}
