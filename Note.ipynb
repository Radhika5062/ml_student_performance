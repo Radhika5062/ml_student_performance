{
 "cells": [
  {
   "cell_type": "code",
   "execution_count": null,
   "metadata": {},
   "outputs": [
    {
     "ename": "",
     "evalue": "",
     "output_type": "error",
     "traceback": [
      "\u001b[1;31mRunning cells with 'venv (Python 3.8.0)' requires the ipykernel package.\n",
      "\u001b[1;31mRun the following command to install 'ipykernel' into the Python environment. \n",
      "\u001b[1;31mCommand: 'conda install -p c:\\Users\\RadhikaMaheshwari\\Desktop\\Test\\Krish Naik Udemy Project\\venv ipykernel --update-deps --force-reinstall'"
     ]
    }
   ],
   "source": [
    "# Step 1: Create github repo\n",
    "# Step 2: Open the desired location in Vscode and create environment. \n",
    "# Step 3: Create a dummy README.md file.\n",
    "# Step 4: Sync the data from your local to github.\n",
    "# Step 5: Create git ignore file in Github.\n",
    "# Step 6: Pull the git ignore file from Github into local."
   ]
  },
  {
   "cell_type": "code",
   "execution_count": null,
   "metadata": {},
   "outputs": [],
   "source": []
  }
 ],
 "metadata": {
  "kernelspec": {
   "display_name": "Python 3",
   "language": "python",
   "name": "python3"
  },
  "language_info": {
   "name": "python",
   "version": "3.8.0"
  }
 },
 "nbformat": 4,
 "nbformat_minor": 2
}
